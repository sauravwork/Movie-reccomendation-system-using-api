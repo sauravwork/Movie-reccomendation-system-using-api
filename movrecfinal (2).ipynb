{
 "cells": [
  {
   "cell_type": "code",
   "execution_count": 9,
   "id": "321513d7-84ec-4a27-9dc3-de33c213fe38",
   "metadata": {},
   "outputs": [
    {
     "name": "stdout",
     "output_type": "stream",
     "text": [
      "Requirement already satisfied: rapidfuzz in c:\\users\\saurav\\anaconda3\\lib\\site-packages (3.10.1)\n"
     ]
    }
   ],
   "source": [
    "import requests\n",
    "import time\n",
    "!pip install rapidfuzz"
   ]
  },
  {
   "cell_type": "code",
   "execution_count": 11,
   "id": "390abf21-545b-48e4-9835-720c77d9d9f9",
   "metadata": {},
   "outputs": [],
   "source": [
    "import pandas as pd"
   ]
  },
  {
   "cell_type": "code",
   "execution_count": 13,
   "id": "126358e8-6bf8-44ae-91dd-514d843614ca",
   "metadata": {},
   "outputs": [],
   "source": [
    "API_KEY = '6d6853d790a2a113770546e2b036d1fe'\n",
    "BASE_URL = 'https://api.themoviedb.org/3'"
   ]
  },
  {
   "cell_type": "code",
   "execution_count": 15,
   "id": "f028d5e6-36d9-4ece-81a9-a0b5fa7bd69c",
   "metadata": {},
   "outputs": [],
   "source": [
    "def get_movie_details(movie_id):\n",
    "    url = f'{BASE_URL}/movie/{movie_id}?api_key={API_KEY}&language=en-US'\n",
    "    try:\n",
    "        response = requests.get(url)\n",
    "        response.raise_for_status() \n",
    "        return response.json()\n",
    "    except requests.exceptions.RequestException as e:\n",
    "        print(f\"Error fetching data for movie ID {movie_id}: {e}\")\n",
    "        return None\n",
    "\n",
    "    \n",
    "    response = requests.get(url)\n",
    "    if response.status_code == 200:\n",
    "        return response.json()\n",
    "    else:\n",
    "        return None\n",
    "\n",
    "def search_movies(query):\n",
    "    url = f'{BASE_URL}/search/movie?api_key={API_KEY}&query={query}&language=en-US&page=1&include_adult=false'\n",
    "    response = requests.get(url)\n",
    "    if response.status_code == 200:\n",
    "        return response.json()\n",
    "    else:\n",
    "        return None\n"
   ]
  },
  {
   "cell_type": "code",
   "execution_count": 17,
   "id": "92f37575-5723-4e49-abab-2413fe72b688",
   "metadata": {},
   "outputs": [
    {
     "name": "stdout",
     "output_type": "stream",
     "text": [
      "Title: Fight Club\n",
      "Overview: A ticking-time-bomb insomniac and a slippery soap salesman channel primal male aggression into a shocking new form of therapy. Their concept catches on, with underground \"fight clubs\" forming in every town, until an eccentric gets in the way and ignites an out-of-control spiral toward oblivion.\n",
      "Title: Inception, Release Date: 2010-07-15\n",
      "Title: The Crack: Inception, Release Date: 2019-10-04\n",
      "Title: Inception: The Cobol Job, Release Date: 2010-12-07\n",
      "Title: The Inception of Dramatic Representation, Release Date: \n",
      "Title: Inception, Release Date: 1980-01-23\n",
      "Title: Syndrome Halla, the Inception of Croatian Professional Film – Born to Die, Release Date: 2017-01-01\n",
      "Title: Bikini Inception, Release Date: 2015-05-19\n",
      "Title: Inception: Music from the Motion Picture, Release Date: 2010-12-07\n",
      "Title: WWA The Inception, Release Date: 2001-10-26\n"
     ]
    }
   ],
   "source": [
    "movie_id = 550 \n",
    "details = get_movie_details(movie_id)\n",
    "if details:\n",
    "    print(f\"Title: {details['title']}\")\n",
    "    print(f\"Overview: {details['overview']}\")\n",
    "else:\n",
    "    print(\"Movie not found.\")\n",
    "\n",
    "search_query = 'Inception'\n",
    "results = search_movies(search_query)\n",
    "if results and 'results' in results:\n",
    "    for movie in results['results']:\n",
    "        print(f\"Title: {movie['title']}, Release Date: {movie['release_date']}\")\n",
    "else:\n",
    "    print(\"No movies found.\")\n"
   ]
  },
  {
   "cell_type": "code",
   "execution_count": 25,
   "id": "bad44c85-9b58-45ec-b24f-a847e76060a5",
   "metadata": {},
   "outputs": [
    {
     "ename": "TypeError",
     "evalue": "'int' object is not iterable",
     "output_type": "error",
     "traceback": [
      "\u001b[1;31m---------------------------------------------------------------------------\u001b[0m",
      "\u001b[1;31mTypeError\u001b[0m                                 Traceback (most recent call last)",
      "Cell \u001b[1;32mIn[25], line 24\u001b[0m\n\u001b[0;32m     21\u001b[0m         movies_data\u001b[38;5;241m.\u001b[39mappend(movie)\n\u001b[0;32m     22\u001b[0m     \u001b[38;5;28;01mreturn\u001b[39;00m pd\u001b[38;5;241m.\u001b[39mDataFrame(movies_data)\n\u001b[1;32m---> 24\u001b[0m movies_df \u001b[38;5;241m=\u001b[39m fetch_extended_movies_data(movie_id)\n\u001b[0;32m     25\u001b[0m \u001b[38;5;28mprint\u001b[39m(movies_df\u001b[38;5;241m.\u001b[39mhead())\n",
      "Cell \u001b[1;32mIn[25], line 8\u001b[0m, in \u001b[0;36mfetch_extended_movies_data\u001b[1;34m(movie_id)\u001b[0m\n\u001b[0;32m      6\u001b[0m \u001b[38;5;28;01mdef\u001b[39;00m \u001b[38;5;21mfetch_extended_movies_data\u001b[39m(movie_id):\n\u001b[0;32m      7\u001b[0m     movies_data \u001b[38;5;241m=\u001b[39m []\n\u001b[1;32m----> 8\u001b[0m     \u001b[38;5;28;01mfor\u001b[39;00m movie_id \u001b[38;5;129;01min\u001b[39;00m movie_id:\n\u001b[0;32m      9\u001b[0m         movie_details \u001b[38;5;241m=\u001b[39m get_movie_details_extended(movie_id)\n\u001b[0;32m     12\u001b[0m         movie \u001b[38;5;241m=\u001b[39m {\n\u001b[0;32m     13\u001b[0m             \u001b[38;5;124m'\u001b[39m\u001b[38;5;124mid\u001b[39m\u001b[38;5;124m'\u001b[39m: movie_details[\u001b[38;5;124m'\u001b[39m\u001b[38;5;124mid\u001b[39m\u001b[38;5;124m'\u001b[39m],\n\u001b[0;32m     14\u001b[0m             \u001b[38;5;124m'\u001b[39m\u001b[38;5;124mtitle\u001b[39m\u001b[38;5;124m'\u001b[39m: movie_details[\u001b[38;5;124m'\u001b[39m\u001b[38;5;124mtitle\u001b[39m\u001b[38;5;124m'\u001b[39m],\n\u001b[1;32m   (...)\u001b[0m\n\u001b[0;32m     19\u001b[0m             \u001b[38;5;124m'\u001b[39m\u001b[38;5;124mbelongs_to_collection\u001b[39m\u001b[38;5;124m'\u001b[39m: movie_details[\u001b[38;5;124m'\u001b[39m\u001b[38;5;124mbelongs_to_collection\u001b[39m\u001b[38;5;124m'\u001b[39m][\u001b[38;5;124m'\u001b[39m\u001b[38;5;124mname\u001b[39m\u001b[38;5;124m'\u001b[39m] \u001b[38;5;28;01mif\u001b[39;00m movie_details[\u001b[38;5;124m'\u001b[39m\u001b[38;5;124mbelongs_to_collection\u001b[39m\u001b[38;5;124m'\u001b[39m] \u001b[38;5;28;01melse\u001b[39;00m \u001b[38;5;28;01mNone\u001b[39;00m\n\u001b[0;32m     20\u001b[0m         }\n",
      "\u001b[1;31mTypeError\u001b[0m: 'int' object is not iterable"
     ]
    }
   ],
   "source": [
    "def get_movie_details_extended(movie_id):\n",
    "    url = f\"https://api.themoviedb.org/3/movie/{movie_id}?api_key={'6d6853d790a2a113770546e2b036d1fe'}&language=en-US&append_to_response=credits\"\n",
    "    response = requests.get(url)\n",
    "    return response.json()\n",
    "\n",
    "def fetch_extended_movies_data(movie_id):\n",
    "    movies_data = []\n",
    "    for movie_id in movie_id:\n",
    "        movie_details = get_movie_details_extended(movie_id)\n",
    "        \n",
    "        \n",
    "        movie = {\n",
    "            'id': movie_details['id'],\n",
    "            'title': movie_details['title'],\n",
    "            'overview': movie_details['overview'],\n",
    "            'genres': [genre['name'] for genre in movie_details['genres']],\n",
    "            'director': [crew['name'] for crew in movie_details['credits']['crew'] if crew['job'] == 'Director'],\n",
    "            'cast': [cast['name'] for cast in movie_details['credits']['cast'][:5]],  # Top 5 cast members\n",
    "            'belongs_to_collection': movie_details['belongs_to_collection']['name'] if movie_details['belongs_to_collection'] else None\n",
    "        }\n",
    "        movies_data.append(movie)\n",
    "    return pd.DataFrame(movies_data)\n",
    "\n",
    "movies_df = fetch_extended_movies_data(movie_id)\n",
    "print(movies_df.head())\n"
   ]
  },
  {
   "cell_type": "code",
   "execution_count": 23,
   "id": "4043fc1c-ac1c-49f3-9813-fa3f5a4a75cc",
   "metadata": {},
   "outputs": [
    {
     "name": "stdout",
     "output_type": "stream",
     "text": [
      "Fetched page 2 with 20 movie IDs.\n",
      "Fetched page 3 with 20 movie IDs.\n",
      "Fetched page 4 with 20 movie IDs.\n",
      "Fetched page 5 with 20 movie IDs.\n",
      "Fetched page 6 with 20 movie IDs.\n",
      "Fetched page 7 with 20 movie IDs.\n",
      "Fetched page 8 with 20 movie IDs.\n",
      "Fetched page 9 with 20 movie IDs.\n",
      "Fetched page 10 with 20 movie IDs.\n",
      "Total movie IDs fetched: 200\n",
      "[912649, 1034541, 1184918, 1118031, 558449, 533535, 933260, 1124641, 698687, 845781, 519182, 945961, 1051896, 1100856, 1116490, 335983, 1084736, 1022789, 1142518, 1041317, 335983, 1084736, 1100856, 1196470, 1100782, 98, 1014505, 1029235, 580489, 928480, 1094974, 976734, 1288998, 592831, 889737, 1214484, 1331375, 1328814, 1371727, 1144962, 592831, 1063877, 1144962, 1159311, 420634, 827931, 823219, 957452, 269509, 157336, 1014505, 1241982, 1140648, 726139, 928480, 663712, 947891, 1288998, 1354627, 616446, 814889, 1010581, 991610, 482600, 1151949, 1079091, 1255208, 1292359, 1011985, 639720, 653346, 748783, 1288575, 1145491, 718821, 824003, 1329336, 972614, 1153291, 1104171, 1147710, 637649, 1137205, 603692, 1120911, 1011985, 939243, 1156593, 1373893, 824003, 783110, 1141182, 718821, 1147400, 385687, 940551, 1153291, 786892, 507241, 1144911, 1249532, 243352, 588648, 974950, 939243, 385687, 929590, 1129598, 1059264, 3933, 1215162, 693134, 1147400, 1139095, 155, 299536, 259872, 1064028, 1244492, 1042657, 634649, 667538, 671, 464026, 1138194, 18183, 1114513, 299536, 1066262, 1337309, 3933, 243352, 1139566, 1357459, 929590, 1215162, 877817, 882598, 831815, 1306764, 1139829, 1726, 502356, 315162, 1244492, 829557, 354912, 569094, 1089123, 177572, 411, 1217134, 826510, 278, 323260, 86328, 1059264, 587727, 438631, 1100099, 76600, 323260, 1264429, 360920, 9479, 1025596, 1069387, 597, 672, 1022796, 411, 1141182, 1100099, 14836, 438631, 1280655, 1219529, 1182047, 772, 1144911, 1144911, 587727, 949484, 8871, 475557, 1089123, 348893, 762509, 414906, 1139817, 361743, 609681, 808, 216015, 1083300, 150540, 120, 1291559, 787699, 674]\n",
      "        id                                   title  \\\n",
      "0   912649                   Venom: The Last Dance   \n",
      "1  1034541                             Terrifier 3   \n",
      "2  1184918                          The Wild Robot   \n",
      "3  1118031  Apocalypse Z: The Beginning of the End   \n",
      "4   558449                            Gladiator II   \n",
      "\n",
      "                                            overview  \\\n",
      "0  Eddie and Venom are on the run. Hunted by both...   \n",
      "1  Five years after surviving Art the Clown's Hal...   \n",
      "2  After a shipwreck, an intelligent robot called...   \n",
      "3  When a kind of rabies that transforms people i...   \n",
      "4  Years after witnessing the death of the revere...   \n",
      "\n",
      "                                 genres          director  \\\n",
      "0  [Science Fiction, Action, Adventure]    [Kelly Marcel]   \n",
      "1           [Horror, Thriller, Mystery]    [Damien Leone]   \n",
      "2  [Animation, Science Fiction, Family]   [Chris Sanders]   \n",
      "3               [Drama, Action, Horror]  [Carles Torrens]   \n",
      "4            [Action, Adventure, Drama]    [Ridley Scott]   \n",
      "\n",
      "                                                cast  \\\n",
      "0  [Tom Hardy, Chiwetel Ejiofor, Juno Temple, Cla...   \n",
      "1  [Lauren LaVera, David Howard Thornton, Samanth...   \n",
      "2  [Lupita Nyong'o, Pedro Pascal, Kit Connor, Bil...   \n",
      "3  [Francisco Ortiz, José María Yázpik, Berta Váz...   \n",
      "4  [Paul Mescal, Denzel Washington, Pedro Pascal,...   \n",
      "\n",
      "       belongs_to_collection  \n",
      "0           Venom Collection  \n",
      "1       Terrifier Collection  \n",
      "2  The Wild Robot Collection  \n",
      "3                       None  \n",
      "4       Gladiator Collection  \n"
     ]
    }
   ],
   "source": [
    "\n",
    "def fetch_movies_page(page):\n",
    "    url = f\"https://api.themoviedb.org/3/discover/movie?api_key={API_KEY}&language=en-US&sort_by=popularity.desc&page={page}\"\n",
    "    response = requests.get(url)\n",
    "    return response.json()\n",
    "\n",
    "\n",
    "def fetch_all_movie_ids(max_pages=None):\n",
    "    movie_ids = []\n",
    "    page = 1\n",
    "    while True:\n",
    "        data = fetch_movies_page(page)\n",
    "        \n",
    "        \n",
    "        ids_on_page = [movie['id'] for movie in data['results']]\n",
    "        movie_ids.extend(ids_on_page)\n",
    "        \n",
    "        \n",
    "        if page >= data['total_pages'] or (max_pages and page >= max_pages):\n",
    "            break\n",
    "        \n",
    "        \n",
    "        page += 1\n",
    "        time.sleep(0.2)  \n",
    "        print(f\"Fetched page {page} with {len(ids_on_page)} movie IDs.\")\n",
    "    return movie_ids\n",
    "\n",
    "\n",
    "movie_ids = fetch_all_movie_ids(max_pages=10)  \n",
    "\n",
    "print(f\"Total movie IDs fetched: {len(movie_ids)}\")\n",
    "print(movie_ids) \n",
    "movies_df = fetch_extended_movies_data(movie_ids)\n",
    "print(movies_df.head())"
   ]
  },
  {
   "cell_type": "code",
   "execution_count": 27,
   "id": "57d36652-e845-4c6d-90c5-869181e6c464",
   "metadata": {},
   "outputs": [],
   "source": [
    "from sklearn.feature_extraction.text import TfidfVectorizer\n",
    "from sklearn.metrics.pairwise import cosine_similarity"
   ]
  },
  {
   "cell_type": "code",
   "execution_count": 29,
   "id": "2c4a7470-44fd-4ed9-9b7d-e8e5b90a5745",
   "metadata": {},
   "outputs": [
    {
     "name": "stdout",
     "output_type": "stream",
     "text": [
      "0    Science Fiction Action Adventure Tom Hardy Chi...\n",
      "1    Horror Thriller Mystery Lauren LaVera David Ho...\n",
      "2    Animation Science Fiction Family Lupita Nyong'...\n",
      "3    Drama Action Horror Francisco Ortiz José María...\n",
      "4    Action Adventure Drama Paul Mescal Denzel Wash...\n",
      "Name: combined_features, dtype: object\n"
     ]
    }
   ],
   "source": [
    "\n",
    "def combine_features(row):\n",
    "    return ' '.join(row['genres']) + ' ' + ' '.join(row['cast']) + ' ' + ' '.join(row['director']) + ' ' + (row['overview'] or '') + ' ' + (row['belongs_to_collection'] or '')\n",
    "\n",
    "\n",
    "movies_df['combined_features'] = movies_df.apply(combine_features, axis=1)\n",
    "print(movies_df['combined_features'].head())\n"
   ]
  },
  {
   "cell_type": "code",
   "execution_count": 58,
   "id": "d05f47b3-79e4-4c26-b82b-eb0277c1b29a",
   "metadata": {},
   "outputs": [],
   "source": [
    "\n",
    "tfidf = TfidfVectorizer(stop_words='english')\n",
    "movies_df['combined_features'] = movies_df['combined_features'].fillna('')  \n",
    "tfidf_matrix = tfidf.fit_transform(movies_df['combined_features'])\n",
    "\n",
    "\n",
    "cosine_sim = cosine_similarity(tfidf_matrix, tfidf_matrix)\n",
    "\n",
    "def get_closest_movie_title(user_input, movie_titles, threshold=80):\n",
    "    # Normalize titles and input\n",
    "    movie_titles_normalized = [title.lower().strip() for title in movie_titles]\n",
    "    user_input_normalized = user_input.lower().strip()\n",
    "\n",
    "    # Perform fuzzy matching\n",
    "    match = process.extractOne(user_input_normalized, movie_titles_normalized)\n",
    "    if match and match[1] >= threshold:  # Ensure match score is above threshold\n",
    "        # Retrieve original title\n",
    "        original_index = movie_titles_normalized.index(match[0])\n",
    "        return movie_titles[original_index]\n",
    "    return None\n",
    "\n",
    "from rapidfuzz import process\n",
    "\n",
    "# Function to get the closest matching title using fuzzy matching\n",
    "def get_closest_movie_title(user_input, movie_titles, threshold=80):\n",
    "    movie_titles_normalized = [title.lower().strip() for title in movie_titles]\n",
    "    user_input_normalized = user_input.lower().strip()\n",
    "\n",
    "    match = process.extractOne(user_input_normalized, movie_titles_normalized)\n",
    "    if match and match[1] >= threshold:\n",
    "        original_index = movie_titles_normalized.index(match[0])\n",
    "        return movie_titles[original_index]\n",
    "    return None\n",
    "\n",
    "# Recommendation function\n",
    "def get_enhanced_recommendations(title, cosine_sim):\n",
    "    movie_titles = movies_df['title'].tolist()\n",
    "    \n",
    "    # Apply fuzzy matching to get the closest movie title\n",
    "    closest_title = get_closest_movie_title(title, movie_titles)\n",
    "    \n",
    "    if closest_title is None:\n",
    "        print(\"Movie not found. Please try again.\")\n",
    "        return []\n",
    "\n",
    "    user_response = input(f\"Did you mean '{closest_title}'? (yes/no): \").strip().lower()\n",
    "    if user_response != 'yes':\n",
    "        print(\"Please try entering the movie name again.\")\n",
    "        return []\n",
    "\n",
    "    # Find the movie index using the fuzzy-matched title\n",
    "    idx = movies_df[movies_df['title'] == closest_title].index[0]\n",
    "    sim_scores = list(enumerate(cosine_sim[idx]))\n",
    "    sim_scores = sorted(sim_scores, key=lambda x: x[1], reverse=True)\n",
    "\n",
    "    # Use a set to track unique movie titles\n",
    "    unique_recommendations = set()\n",
    "    recommendations = []\n",
    "\n",
    "    for movie_idx, score in sim_scores:\n",
    "        movie_title = movies_df['title'].iloc[movie_idx]\n",
    "        if movie_idx != idx and movie_title not in unique_recommendations:\n",
    "            unique_recommendations.add(movie_title)\n",
    "            recommendations.append(movie_title)\n",
    "        if len(recommendations) == 5:  # Stop after getting 5 unique recommendations\n",
    "            break\n",
    "\n",
    "    return recommendations"
   ]
  },
  {
   "cell_type": "code",
   "execution_count": 70,
   "id": "bae94840-ee9a-4189-bf9f-1f5e54090730",
   "metadata": {},
   "outputs": [
    {
     "name": "stdin",
     "output_type": "stream",
     "text": [
      "Enter the movie name:  iron man\n",
      "Did you mean 'Iron Man'? (yes/no):  yes\n"
     ]
    },
    {
     "name": "stdout",
     "output_type": "stream",
     "text": [
      "Here are some movie recommendations:\n",
      "Avengers: Infinity War\n",
      "Spider-Man: No Way Home\n",
      "Terrifier 2\n",
      "Sonic the Hedgehog 3\n",
      "Deadpool & Wolverine\n"
     ]
    }
   ],
   "source": [
    "user_input = input(\"Enter the movie name: \")\n",
    "recommendations = get_enhanced_recommendations(user_input, cosine_sim)\n",
    "\n",
    "if not recommendations:\n",
    "    print(\"No recommendations found.\")\n",
    "else:\n",
    "    print(\"Here are some movie recommendations:\")\n",
    "    for movie in recommendations:\n",
    "        print(movie)\n"
   ]
  },
  {
   "cell_type": "code",
   "execution_count": 54,
   "id": "485855f2-ade0-48c4-a061-68aca45c4d17",
   "metadata": {},
   "outputs": [
    {
     "name": "stdout",
     "output_type": "stream",
     "text": [
      "0                                  Venom: The Last Dance\n",
      "1                                            Terrifier 3\n",
      "2                                         The Wild Robot\n",
      "3                 Apocalypse Z: The Beginning of the End\n",
      "4                                           Gladiator II\n",
      "                             ...                        \n",
      "195                                           Inside Out\n",
      "196    The Lord of the Rings: The Fellowship of the Ring\n",
      "197                                       Drawing Closer\n",
      "198                                                Wonka\n",
      "199                  Harry Potter and the Goblet of Fire\n",
      "Name: title, Length: 200, dtype: object\n"
     ]
    }
   ],
   "source": [
    "print(movies_df['title'])"
   ]
  },
  {
   "cell_type": "code",
   "execution_count": null,
   "id": "74759e6e-1c06-49ee-92f7-a05e7e8f8651",
   "metadata": {},
   "outputs": [],
   "source": []
  },
  {
   "cell_type": "code",
   "execution_count": null,
   "id": "97cacf87-e49a-4cd4-8761-3e84870054cd",
   "metadata": {},
   "outputs": [],
   "source": []
  }
 ],
 "metadata": {
  "kernelspec": {
   "display_name": "Python 3 (ipykernel)",
   "language": "python",
   "name": "python3"
  },
  "language_info": {
   "codemirror_mode": {
    "name": "ipython",
    "version": 3
   },
   "file_extension": ".py",
   "mimetype": "text/x-python",
   "name": "python",
   "nbconvert_exporter": "python",
   "pygments_lexer": "ipython3",
   "version": "3.12.4"
  }
 },
 "nbformat": 4,
 "nbformat_minor": 5
}
